{
  "nbformat": 4,
  "nbformat_minor": 0,
  "metadata": {
    "colab": {
      "name": "Knnimplementation.ipynb",
      "provenance": [],
      "authorship_tag": "ABX9TyN0JOHyD7VSlGPLvP1HqRhZ",
      "include_colab_link": true
    },
    "kernelspec": {
      "name": "python3",
      "display_name": "Python 3"
    }
  },
  "cells": [
    {
      "cell_type": "markdown",
      "metadata": {
        "id": "view-in-github",
        "colab_type": "text"
      },
      "source": [
        "<a href=\"https://colab.research.google.com/github/redashu/gtsrepo1/blob/master/Knnimplementation.ipynb\" target=\"_parent\"><img src=\"https://colab.research.google.com/assets/colab-badge.svg\" alt=\"Open In Colab\"/></a>"
      ]
    },
    {
      "cell_type": "code",
      "metadata": {
        "id": "qt8HaNf1nUR4",
        "colab_type": "code",
        "colab": {}
      },
      "source": [
        "#  importing  data set from URL\n",
        "import pandas  as pd"
      ],
      "execution_count": 0,
      "outputs": []
    },
    {
      "cell_type": "code",
      "metadata": {
        "id": "izBep-cdn9HS",
        "colab_type": "code",
        "colab": {}
      },
      "source": [
        "#  downloading  in RAM  datasets\n",
        "df=pd.read_csv('http://3.92.235.245/datasets/Social_Network_Ads.csv')"
      ],
      "execution_count": 0,
      "outputs": []
    },
    {
      "cell_type": "code",
      "metadata": {
        "id": "U1CR6xyZoIka",
        "colab_type": "code",
        "colab": {}
      },
      "source": [
        "#  to check schema\n",
        "#df.info"
      ],
      "execution_count": 0,
      "outputs": []
    },
    {
      "cell_type": "code",
      "metadata": {
        "id": "2JZw3J-LoMuJ",
        "colab_type": "code",
        "colab": {}
      },
      "source": [
        "features=df.iloc[:,[2,3]].values\n",
        "#  only picking age and salary \n",
        "#features"
      ],
      "execution_count": 0,
      "outputs": []
    },
    {
      "cell_type": "code",
      "metadata": {
        "id": "p8aXVXvGpJTu",
        "colab_type": "code",
        "colab": {}
      },
      "source": [
        "# to pic label\n",
        "label=df.iloc[:,-1].values"
      ],
      "execution_count": 0,
      "outputs": []
    },
    {
      "cell_type": "code",
      "metadata": {
        "id": "le7GePu3pmta",
        "colab_type": "code",
        "colab": {}
      },
      "source": [
        "#  bcz we r using KNN so  age and salary are different terms\n",
        "# now applying  features scaling\n",
        "from  sklearn.preprocessing  import  StandardScaler\n",
        "#  always do split process before apply feature scalling \n",
        "from  sklearn.model_selection  import  train_test_split"
      ],
      "execution_count": 0,
      "outputs": []
    },
    {
      "cell_type": "code",
      "metadata": {
        "id": "5otQa3-WrFsL",
        "colab_type": "code",
        "colab": {}
      },
      "source": [
        "tr_data,ts_data,tr_label,ts_label=train_test_split(features,label,test_size=0.2)"
      ],
      "execution_count": 0,
      "outputs": []
    },
    {
      "cell_type": "code",
      "metadata": {
        "id": "cDG8XXJVr7Qz",
        "colab_type": "code",
        "colab": {}
      },
      "source": [
        "#  calling  features scaling method\n",
        "sc=StandardScaler()"
      ],
      "execution_count": 0,
      "outputs": []
    },
    {
      "cell_type": "code",
      "metadata": {
        "id": "XhrdAnBWtFN8",
        "colab_type": "code",
        "colab": {}
      },
      "source": [
        "# now  transforming  training  data\n",
        "tr_data_trns=sc.fit_transform(tr_data)\n",
        "ts_data_trns=sc.transform(ts_data)"
      ],
      "execution_count": 0,
      "outputs": []
    },
    {
      "cell_type": "code",
      "metadata": {
        "id": "cAz3IhU8tRok",
        "colab_type": "code",
        "colab": {}
      },
      "source": [
        "# Now calling  KNN \n",
        "from  sklearn.neighbors  import  KNeighborsClassifier\n",
        "#  now calling DecisionTree as well\n",
        "from  sklearn.tree import  DecisionTreeClassifier"
      ],
      "execution_count": 0,
      "outputs": []
    },
    {
      "cell_type": "code",
      "metadata": {
        "id": "uUlW5aOztfYg",
        "colab_type": "code",
        "colab": {}
      },
      "source": [
        "# lets explore  KNN\n",
        "#help(KNeighborsClassifier)\n",
        "knn_clf=KNeighborsClassifier(n_neighbors=5)\n",
        "# using Decision Tree  with GINI\n",
        "des_clf=DecisionTreeClassifier()"
      ],
      "execution_count": 0,
      "outputs": []
    },
    {
      "cell_type": "code",
      "metadata": {
        "id": "rCpKalowu0xS",
        "colab_type": "code",
        "colab": {}
      },
      "source": [
        "#  now first  training with  KNN\n",
        "knn_trained=knn_clf.fit(tr_data_trns,tr_label)"
      ],
      "execution_count": 0,
      "outputs": []
    },
    {
      "cell_type": "code",
      "metadata": {
        "id": "b7Fy0YvpwPn3",
        "colab_type": "code",
        "colab": {}
      },
      "source": [
        "#  training with  Decsio\n",
        "des_trained=des_clf.fit(tr_data_trns,tr_label)"
      ],
      "execution_count": 0,
      "outputs": []
    },
    {
      "cell_type": "code",
      "metadata": {
        "id": "bUk4PAlPwqg3",
        "colab_type": "code",
        "colab": {}
      },
      "source": [
        "#  predict or test  data for KNN\n",
        "knn_predict=knn_trained.predict(ts_data_trns)"
      ],
      "execution_count": 0,
      "outputs": []
    },
    {
      "cell_type": "code",
      "metadata": {
        "id": "6ywqoXFExB-f",
        "colab_type": "code",
        "colab": {}
      },
      "source": [
        "des_predict=des_trained.predict(ts_data_trns)\n",
        "#  for DecisionTree"
      ],
      "execution_count": 0,
      "outputs": []
    },
    {
      "cell_type": "code",
      "metadata": {
        "id": "QjA2iDMKxHSn",
        "colab_type": "code",
        "colab": {}
      },
      "source": [
        "#  now checking  accuracy for KNN \n",
        "from  sklearn.metrics  import  accuracy_score"
      ],
      "execution_count": 0,
      "outputs": []
    },
    {
      "cell_type": "code",
      "metadata": {
        "id": "p4B5jTSYxePR",
        "colab_type": "code",
        "colab": {}
      },
      "source": [
        "# fir acc for KNN\n",
        "acc_knn=accuracy_score(ts_label,knn_predict)"
      ],
      "execution_count": 0,
      "outputs": []
    },
    {
      "cell_type": "code",
      "metadata": {
        "id": "ZATQJvdXxspv",
        "colab_type": "code",
        "colab": {}
      },
      "source": [
        "#  for Des\n",
        "acc_des=accuracy_score(ts_label,des_predict)"
      ],
      "execution_count": 0,
      "outputs": []
    },
    {
      "cell_type": "code",
      "metadata": {
        "id": "2oIoAjzjxuIi",
        "colab_type": "code",
        "colab": {
          "base_uri": "https://localhost:8080/",
          "height": 248
        },
        "outputId": "1e000d5e-6a26-4bc7-c41b-4686b903feb6"
      },
      "source": [
        "algo=['KNN','DecisionTree']\n",
        "score=[acc_knn,acc_des]\n",
        "import matplotlib.pyplot as plt\n",
        "plt.pie(score,labels=algo,autopct='%1.1ff%%')\n",
        "plt.show()"
      ],
      "execution_count": 37,
      "outputs": [
        {
          "output_type": "display_data",
          "data": {
            "image/png": "[encoded data removed]",
            "text/plain": [
              "<Figure size 432x288 with 1 Axes>"
            ]
          },
          "metadata": {
            "tags": []
          }
        }
      ]
    },
    {
      "cell_type": "code",
      "metadata": {
        "id": "_v0aavfRx-oS",
        "colab_type": "code",
        "colab": {}
      },
      "source": [
        ""
      ],
      "execution_count": 0,
      "outputs": []
    }
  ]
}